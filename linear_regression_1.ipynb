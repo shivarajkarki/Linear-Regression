{
 "cells": [
  {
   "cell_type": "code",
   "execution_count": 1,
   "metadata": {},
   "outputs": [],
   "source": [
    "import pandas as pd\n",
    "import numpy as np\n",
    "import matplotlib.pyplot as plt"
   ]
  },
  {
   "cell_type": "markdown",
   "metadata": {},
   "source": [
    "Create two empty lists"
   ]
  },
  {
   "cell_type": "code",
   "execution_count": 2,
   "metadata": {},
   "outputs": [],
   "source": [
    "f = open ('machine_learning_examples-master/linear_regression_class/data_1d.csv','r')"
   ]
  },
  {
   "cell_type": "markdown",
   "metadata": {},
   "source": [
    "for line in f:\n",
    "    field = line.split(',')\n",
    "    print(field[0])"
   ]
  },
  {
   "cell_type": "markdown",
   "metadata": {},
   "source": [
    "\\begin{align}\n",
    "a = \\frac{N \\sum_{i = 1}^{N}y_{i}x_{i}-\\sum_{i = 1}^{N}x_{i}\\sum_{i = 1}^{N}y_{i}}{N\\sum_{i = 1}^{N}x^2_{i}-(\\sum_{i=1}^{N}x_{i})^2}\n",
    "\\end{align}"
   ]
  },
  {
   "cell_type": "markdown",
   "metadata": {},
   "source": [
    "\\begin{align}\n",
    "b = \\frac{\\sum_{i = 1}^{N}x_{i} \\sum_{i = 1}^{N}y_{i}x_{i}-\\sum_{i = 1}^{N}x_{i}^2\\sum_{i = 1}^{N}y_{i}}{(\\sum_{i=1}^{N}x_{i})^2-N\\sum_{i = 1}^{N}x^2_{i}}\n",
    "\\end{align}"
   ]
  },
  {
   "cell_type": "code",
   "execution_count": 3,
   "metadata": {},
   "outputs": [
    {
     "name": "stdout",
     "output_type": "stream",
     "text": [
      "the r-squared is: 0.9911838202977805\n"
     ]
    },
    {
     "data": {
      "text/plain": [
       "<BarContainer object of 100 artists>"
      ]
     },
     "execution_count": 3,
     "metadata": {},
     "output_type": "execute_result"
    },
    {
     "data": {
      "image/png": "[encoded data removed]",
      "text/plain": [
       "<Figure size 432x288 with 1 Axes>"
      ]
     },
     "metadata": {
      "needs_background": "light"
     },
     "output_type": "display_data"
    }
   ],
   "source": [
    "X = []\n",
    "Y = []\n",
    "for line in open ('machine_learning_examples-master/linear_regression_class/data_1d.csv','r'):\n",
    "    field = line.split(',')\n",
    "    #print(type(x))\n",
    "    #field is list containing x,y elements\n",
    "    \n",
    "    #append X nad Y values to existing list\n",
    "    X.append(float(field[0]))\n",
    "    Y.append(float(field[1]))\n",
    "\n",
    "#convert to numpy array\n",
    "X = np.array(X)\n",
    "Y = np.array(Y)\n",
    "\n",
    "#compute denominator\n",
    "denominator = X.dot(X) - X.mean() * X.sum()\n",
    "\n",
    "#calculate a, b\n",
    "a = (X.dot(Y) - X.sum() * Y.mean())/denominator\n",
    "b = (Y.mean() * X.dot(X) - X.dot(Y) * X.mean())/denominator\n",
    "\n",
    "#calculate yhat\n",
    "Yhat = a*X + b\n",
    "\n",
    "#plot points and straight line\n",
    "plt.scatter(X,Y)\n",
    "plt.plot(X, Yhat)\n",
    "\n",
    "\n",
    "#r squared estimation = 1 - square of (sum_total / sum_mean)\n",
    "d1 = Y - Yhat\n",
    "d2 = Y - Y.mean()\n",
    "r2 = 1 - d1.dot(d1) / d2.dot(d2)\n",
    "print(\"the r-squared is:\", r2)\n",
    "\n",
    "#plot the error between estimated and real\n",
    "plt.bar(X, d1)"
   ]
  }
 ],
 "metadata": {
  "kernelspec": {
   "display_name": "Python 3",
   "language": "python",
   "name": "python3"
  },
  "language_info": {
   "codemirror_mode": {
    "name": "ipython",
    "version": 3
   },
   "file_extension": ".py",
   "mimetype": "text/x-python",
   "name": "python",
   "nbconvert_exporter": "python",
   "pygments_lexer": "ipython3",
   "version": "3.7.1"
  }
 },
 "nbformat": 4,
 "nbformat_minor": 2
}
